{
 "cells": [
  {
   "cell_type": "code",
   "execution_count": null,
   "metadata": {},
   "outputs": [],
   "source": [
    "from selenium import webdriver\n",
    "import pandas as pd\n",
    "import time\n",
    "driver = webdriver.Chrome()\n",
    "\n",
    "driver.get('---add link to first result-----')"
   ]
  },
  {
   "cell_type": "code",
   "execution_count": null,
   "metadata": {},
   "outputs": [],
   "source": [
    "result = pd.DataFrame(columns = ['search','title', 'date', 'body'])"
   ]
  },
  {
   "cell_type": "code",
   "execution_count": null,
   "metadata": {},
   "outputs": [],
   "source": [
    "def get_and_add_info2(): \n",
    "    title_element = driver.find_elements_by_xpath('//*[@id=\"documentdisplayleftpanesectiontitlecontainer\"]/span')[0]\n",
    "    title = title_element.text\n",
    "\n",
    "    date_element = driver.find_elements_by_xpath('//*[@id=\"documentdisplayheader\"]/h1')[0]\n",
    "    date = date_element.text\n",
    "\n",
    "    date = date.split(\", \", 3)\n",
    "    date= date[len(date) - 1]\n",
    "    \n",
    "    \n",
    "    #//*[@id=\"documentdisplayleftpanesectiontextcontainer\"]/p[2]\n",
    "    # //*[@id=\"documentdisplayleftpanesectiontextcontainer\"]/p[3]\n",
    "    \n",
    "    try:\n",
    "        body_element = driver.find_elements_by_xpath('//*[@id=\"documentdisplayleftpanesectiontextcontainer\"]/p[2]')[0] \n",
    "        p1 = body_element.text\n",
    "    except:\n",
    "        p1 = \"\"\n",
    "    try:\n",
    "        body_element = driver.find_elements_by_xpath('//*[@id=\"documentdisplayleftpanesectiontextcontainer\"]/p[3]')[0]  #//*[@id=\"documentdis]playleftpanesectiontextcontainer\"]/p[5]\n",
    "        p2 = body_element.text\n",
    "    except:\n",
    "        p2 = \"\"\n",
    "    try:\n",
    "        body_element = driver.find_elements_by_xpath('//*[@id=\"documentdisplayleftpanesectiontextcontainer\"]/p[4]')[0]  #//*[@id=\"documentdis]playleftpanesectiontextcontainer\"]/p[5]\n",
    "        p3 = body_element.text\n",
    "    except:\n",
    "        p3 = \"\"    \n",
    "    try:\n",
    "        body_element = driver.find_elements_by_xpath('//*[@id=\"documentdisplayleftpanesectiontextcontainer\"]/p[5]')[0]  #//*[@id=\"documentdis]playleftpanesectiontextcontainer\"]/p[5]\n",
    "        p4 = body_element.text\n",
    "    except:\n",
    "        p4 = \"\"\n",
    "    try:\n",
    "        body_element = driver.find_elements_by_xpath('//*[@id=\"documentdisplayleftpanesectiontextcontainer\"]/p[6]')[0]  #//*[@id=\"documentdis]playleftpanesectiontextcontainer\"]/p[5]\n",
    "        p5 = body_element.text\n",
    "    except:\n",
    "        p5 = \"\"\n",
    "    try:\n",
    "        body_element = driver.find_elements_by_xpath('//*[@id=\"documentdisplayleftpanesectiontextcontainer\"]/p[7]')[0]  #//*[@id=\"documentdis]playleftpanesectiontextcontainer\"]/p[5]\n",
    "        p6 = body_element.text\n",
    "    except:\n",
    "        p6 = \"\"\n",
    "    try:\n",
    "        body_element = driver.find_elements_by_xpath('//*[@id=\"documentdisplayleftpanesectiontextcontainer\"]/p[8]')[0]  #//*[@id=\"documentdis]playleftpanesectiontextcontainer\"]/p[5]\n",
    "        p7 = body_element.text\n",
    "    except:\n",
    "        p7 = \"\"\n",
    "    try:\n",
    "        body_element = driver.find_elements_by_xpath('//*[@id=\"documentdisplayleftpanesectiontextcontainer\"]/p[9]')[0]  #//*[@id=\"documentdis]playleftpanesectiontextcontainer\"]/p[5]\n",
    "        p8 = body_element.text\n",
    "    except:\n",
    "        p8 = \"\"\n",
    "    try:\n",
    "        body_element = driver.find_elements_by_xpath('//*[@id=\"documentdisplayleftpanesectiontextcontainer\"]/p[10]')[0]  #//*[@id=\"documentdis]playleftpanesectiontextcontainer\"]/p[5]\n",
    "        p9 = body_element.text\n",
    "    except:\n",
    "        p9 = \"\"\n",
    "    try:\n",
    "        body_element = driver.find_elements_by_xpath('//*[@id=\"documentdisplayleftpanesectiontextcontainer\"]/p[11]')[0]  #//*[@id=\"documentdis]playleftpanesectiontextcontainer\"]/p[5]\n",
    "        p10 = body_element.text\n",
    "    except:\n",
    "        p10 = \"\"\n",
    "    \n",
    "    \n",
    "    result.loc[len(result)] = [\"Core Curriculum\", title, date, (p1+p2+p3+p4+p5+p6+p7+p8+p9+p10)]"
   ]
  },
  {
   "cell_type": "code",
   "execution_count": null,
   "metadata": {},
   "outputs": [],
   "source": [
    "#to save first result\n",
    "get_and_add_info2()\n",
    "\n",
    "search_results=1225 #or whatever the number of articles retuned in the search are \n",
    "\n",
    "#to save the rest\n",
    "try\n",
    "    for x in range(search_results):\n",
    "        get_and_add_info2()\n",
    "\n",
    "        #//*[@id=\"viewercontrols\"]/div/div[2]/a[2] for first result\n",
    "\n",
    "        next_button = driver.find_elements_by_xpath('//*[@id=\"viewercontrols\"]/div/div[2]/a[3]')[0]\n",
    "        next_button.click()\n",
    "\n",
    "        time.sleep(3)\n",
    "except:\n",
    "    print(result)"
   ]
  },
  {
   "cell_type": "code",
   "execution_count": null,
   "metadata": {},
   "outputs": [],
   "source": [
    "result.to_csv(r\"---export location---\")"
   ]
  }
 ],
 "metadata": {
  "kernelspec": {
   "display_name": "Python 3",
   "language": "python",
   "name": "python3"
  },
  "language_info": {
   "codemirror_mode": {
    "name": "ipython",
    "version": 3
   },
   "file_extension": ".py",
   "mimetype": "text/x-python",
   "name": "python",
   "nbconvert_exporter": "python",
   "pygments_lexer": "ipython3",
   "version": "3.7.4"
  }
 },
 "nbformat": 4,
 "nbformat_minor": 2
}
